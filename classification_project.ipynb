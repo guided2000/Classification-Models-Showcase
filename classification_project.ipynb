{
 "cells": [
  {
   "cell_type": "markdown",
   "id": "af37b83d",
   "metadata": {},
   "source": [
    "# پروژه دسته‌بندی داده‌ها\n",
    "این پروژه شامل مراحل بارگذاری داده‌ها، مدل‌سازی با استفاده از رگرسیون لجستیک و ماشین بردار پشتیبان (SVM)، و ارزیابی مدل‌ها می‌باشد."
   ]
  },
  {
   "cell_type": "markdown",
   "id": "5be6742b",
   "metadata": {},
   "source": [
    "## مرحله 1: بارگذاری داده‌ها\n",
    "در این بخش داده‌ها از فایل CSV بارگذاری می‌شوند. برای نمونه، داده‌های مصنوعی تولید می‌شوند."
   ]
  },
  {
   "cell_type": "code",
   "execution_count": null,
   "id": "e98d2537",
   "metadata": {},
   "outputs": [],
   "source": [
    "import pandas as pd\n",
    "import numpy as np\n",
    "\n",
    "# تولید مجموعه داده مصنوعی\n",
    "data = pd.DataFrame({\n",
    "    'Feature1': np.random.rand(100),\n",
    "    'Feature2': np.random.rand(100),\n",
    "    'Feature3': np.random.rand(100),\n",
    "    'Target': np.random.choice([0, 1], size=100)\n",
    "})"
   ]
  },
  {
   "cell_type": "markdown",
   "id": "f155586a",
   "metadata": {},
   "source": [
    "## مرحله 2: جداسازی ویژگی‌ها و متغیر هدف\n",
    "در این مرحله داده‌ها به ویژگی‌ها (X) و متغیر هدف (y) تقسیم می‌شوند."
   ]
  },
  {
   "cell_type": "code",
   "execution_count": null,
   "id": "e5c85866",
   "metadata": {},
   "outputs": [],
   "source": [
    "X = data.drop(columns=['Target'])  # ویژگی‌ها\n",
    "y = data['Target']  # متغیر هدف"
   ]
  },
  {
   "cell_type": "markdown",
   "id": "f981d044",
   "metadata": {},
   "source": [
    "## مرحله 3: تقسیم داده‌ها به آموزش و آزمایش\n",
    "70 درصد داده‌ها برای آموزش و 30 درصد برای آزمایش تخصیص داده می‌شوند."
   ]
  },
  {
   "cell_type": "code",
   "execution_count": null,
   "id": "91b7445d",
   "metadata": {},
   "outputs": [],
   "source": [
    "from sklearn.model_selection import train_test_split\n",
    "\n",
    "X_train, X_test, y_train, y_test = train_test_split(X, y, test_size=0.3, random_state=42)"
   ]
  },
  {
   "cell_type": "markdown",
   "id": "f66b6263",
   "metadata": {},
   "source": [
    "## مرحله 4: مدل‌سازی با استفاده از رگرسیون لجستیک"
   ]
  },
  {
   "cell_type": "code",
   "execution_count": null,
   "id": "ae7758d8",
   "metadata": {},
   "outputs": [],
   "source": [
    "from sklearn.linear_model import LogisticRegression\n",
    "\n",
    "# ایجاد و آموزش مدل رگرسیون لجستیک\n",
    "logistic_model = LogisticRegression()\n",
    "logistic_model.fit(X_train, y_train)"
   ]
  },
  {
   "cell_type": "code",
   "execution_count": null,
   "id": "d50d0a5a",
   "metadata": {},
   "outputs": [],
   "source": [
    "from sklearn.metrics import classification_report, accuracy_score\n",
    "\n",
    "# ارزیابی مدل\n",
    "logistic_predictions = logistic_model.predict(X_test)\n",
    "logistic_accuracy = accuracy_score(y_test, logistic_predictions)\n",
    "logistic_report = classification_report(y_test, logistic_predictions)\n",
    "\n",
    "print(\"دقت مدل رگرسیون لجستیک:\", logistic_accuracy)\n",
    "print(logistic_report)"
   ]
  },
  {
   "cell_type": "markdown",
   "id": "88a94f6c",
   "metadata": {},
   "source": [
    "## مرحله 5: مدل‌سازی با استفاده از ماشین بردار پشتیبان (SVM)\n",
    "مدل‌های SVM با کرنل خطی و کرنل RBF بررسی می‌شوند."
   ]
  },
  {
   "cell_type": "code",
   "execution_count": null,
   "id": "eac0c599",
   "metadata": {},
   "outputs": [],
   "source": [
    "from sklearn.svm import SVC\n",
    "\n",
    "# SVM با کرنل خطی\n",
    "svm_linear = SVC(kernel='linear', C=1)\n",
    "svm_linear.fit(X_train, y_train)\n",
    "\n",
    "# SVM با کرنل RBF\n",
    "svm_rbf = SVC(kernel='rbf', C=1, gamma='scale')\n",
    "svm_rbf.fit(X_train, y_train)"
   ]
  },
  {
   "cell_type": "code",
   "execution_count": null,
   "id": "0a793ec6",
   "metadata": {},
   "outputs": [],
   "source": [
    "# ارزیابی مدل‌ها\n",
    "linear_predictions = svm_linear.predict(X_test)\n",
    "linear_accuracy = accuracy_score(y_test, linear_predictions)\n",
    "linear_report = classification_report(y_test, linear_predictions)\n",
    "\n",
    "rbf_predictions = svm_rbf.predict(X_test)\n",
    "rbf_accuracy = accuracy_score(y_test, rbf_predictions)\n",
    "rbf_report = classification_report(y_test, rbf_predictions)\n",
    "\n",
    "print(\"دقت مدل SVM (کرنل خطی):\", linear_accuracy)\n",
    "print(linear_report)\n",
    "\n",
    "print(\"دقت مدل SVM (کرنل RBF):\", rbf_accuracy)\n",
    "print(rbf_report)"
   ]
  },
  {
   "cell_type": "markdown",
   "id": "fd486262",
   "metadata": {},
   "source": [
    "## مرحله 6: اعتبارسنجی متقابل (Cross-validation)\n",
    "برای ارزیابی بهتر مدل‌ها از روش اعتبارسنجی 10 بخشی استفاده می‌کنیم."
   ]
  },
  {
   "cell_type": "code",
   "execution_count": null,
   "id": "6692fa56",
   "metadata": {},
   "outputs": [],
   "source": [
    "from sklearn.model_selection import cross_val_score, KFold\n",
    "\n",
    "kf = KFold(n_splits=10, shuffle=True, random_state=42)\n",
    "logistic_cv_scores = cross_val_score(logistic_model, X, y, cv=kf)\n",
    "svm_linear_cv_scores = cross_val_score(svm_linear, X, y, cv=kf)\n",
    "svm_rbf_cv_scores = cross_val_score(svm_rbf, X, y, cv=kf)\n",
    "\n",
    "print(\"میانگین دقت اعتبارسنجی 10 بخشی - رگرسیون لجستیک:\", np.mean(logistic_cv_scores))\n",
    "print(\"میانگین دقت اعتبارسنجی 10 بخشی - SVM (کرنل خطی):\", np.mean(svm_linear_cv_scores))\n",
    "print(\"میانگین دقت اعتبارسنجی 10 بخشی - SVM (کرنل RBF):\", np.mean(svm_rbf_cv_scores))"
   ]
  },
  {
   "cell_type": "markdown",
   "id": "3286527a",
   "metadata": {},
   "source": [
    "## خلاصه نتایج مدل‌ها"
   ]
  },
  {
   "cell_type": "code",
   "execution_count": null,
   "id": "c1284bdf",
   "metadata": {},
   "outputs": [],
   "source": [
    "# خلاصه نتایج\n",
    "results = {\n",
    "    \"مدل\": [\"رگرسیون لجستیک\", \"SVM (کرنل خطی)\", \"SVM (کرنل RBF)\"],\n",
    "    \"دقت (Hold-out)\": [logistic_accuracy, linear_accuracy, rbf_accuracy],\n",
    "    \"میانگین دقت اعتبارسنجی 10 بخشی\": [\n",
    "        np.mean(logistic_cv_scores),\n",
    "        np.mean(svm_linear_cv_scores),\n",
    "        np.mean(svm_rbf_cv_scores)\n",
    "    ]\n",
    "}\n",
    "results_df = pd.DataFrame(results)\n",
    "print(results_df)"
   ]
  }
 ],
 "metadata": {},
 "nbformat": 4,
 "nbformat_minor": 5
}